{
 "cells": [
  {
   "cell_type": "code",
   "execution_count": null,
   "id": "fc2a73a4-6740-4065-82bf-d5498f1e071c",
   "metadata": {},
   "outputs": [],
   "source": [
    "from textwrap import dedent\n",
    "\n",
    "import pyspark.sql.functions as F\n",
    "from langchain.chains import ConversationalRetrievalChain\n",
    "from langchain.memory import ChatMessageHistory, ConversationBufferMemory\n",
    "from langchain.text_splitter import RecursiveCharacterTextSplitter\n",
    "from langchain_community.chat_models import ChatOllama\n",
    "from langchain_community.document_loaders.dataframe import DataFrameLoader\n",
    "from langchain_community.document_loaders.pdf import PyPDFLoader\n",
    "from langchain_community.embeddings import OllamaEmbeddings\n",
    "from langchain_community.vectorstores import Chroma, FAISS\n",
    "from langchain_core.prompts import PromptTemplate"
   ]
  },
  {
   "cell_type": "raw",
   "id": "88b3458a-3896-45a8-acdd-b4c13038bcee",
   "metadata": {},
   "source": [
    "Given a GeoTIFF with one band where the pixel value is a float, and a pandas dataframe with x and y series, find pixel value for each x and y."
   ]
  },
  {
   "cell_type": "code",
   "execution_count": null,
   "id": "ab71f684-0321-4d0f-8690-e13185745776",
   "metadata": {},
   "outputs": [],
   "source": [
    "template = \"\"\"\n",
    "# CONTEXT #\n",
    "You are an expert in using the python gdal and pandas library.\n",
    "{context}\n",
    "\n",
    "# OBJECTIVE #\n",
    "{question}\n",
    "\n",
    "# STYLE #\n",
    "Follow the writing style of Python code.\n",
    "\n",
    "# TONE #\n",
    "Persuasive\n",
    "\n",
    "# AUDIENCE #\n",
    "Technical\n",
    "\n",
    "# RESPONSE #\n",
    "Just show the Python code and do NOT provide any comments. DO NOT EXECUTE THE CODE.\n",
    "\"\"\"\n",
    "prompt = PromptTemplate(template=template, input_variables=[\"context\", \"question\"])"
   ]
  },
  {
   "cell_type": "code",
   "execution_count": null,
   "id": "5057fa46-f475-4775-82ff-d9d2094ce9b6",
   "metadata": {},
   "outputs": [],
   "source": [
    "prompt.invoke({\"context\":\"FooBar\", \"question\":\n",
    "               \"Given a GeoTIFF with one band where the pixel value is a float, and a pandas dataframe with x and y series, find pixel value for each x and y.\"})"
   ]
  },
  {
   "cell_type": "code",
   "execution_count": null,
   "id": "c5604941-f648-4076-925e-e2c4ea75e48d",
   "metadata": {},
   "outputs": [],
   "source": [
    "# llm = ChatOllama(model=\"mistral:instruct\")\n",
    "# llm = ChatOllama(model=\"openhermes\")\n",
    "llm = ChatOllama(model=\"mistral\")"
   ]
  },
  {
   "cell_type": "code",
   "execution_count": null,
   "id": "b31ef1f3-6059-4c60-b54a-a1d5cb78d2b8",
   "metadata": {},
   "outputs": [],
   "source": [
    "embedding = OllamaEmbeddings(model=\"nomic-embed-text\")"
   ]
  },
  {
   "cell_type": "code",
   "execution_count": null,
   "id": "111636a3-51e1-498e-be44-eb91369a5715",
   "metadata": {},
   "outputs": [],
   "source": [
    "loader = PyPDFLoader(\"/Users/mraad/Downloads/3615886.3627740.pdf\")\n",
    "docs = loader.load_and_split()"
   ]
  },
  {
   "cell_type": "code",
   "execution_count": null,
   "id": "97cc5db8-b2a4-41c0-ae78-07f7060e5262",
   "metadata": {},
   "outputs": [],
   "source": [
    "from chromadb.config import Settings  # https://docs.trychroma.com/telemetry"
   ]
  },
  {
   "cell_type": "code",
   "execution_count": null,
   "id": "6c51dcf1-7f3d-4d52-b51c-829d14237120",
   "metadata": {},
   "outputs": [],
   "source": [
    "client_settings = Settings(anonymized_telemetry=False)\n",
    "db = Chroma.from_documents(docs, embedding=embedding, client_settings=client_settings)\n",
    "# db = FAISS.from_documents(docs, embedding)"
   ]
  },
  {
   "cell_type": "code",
   "execution_count": null,
   "id": "a2d95abe-2e4b-4a63-ace7-3d5fd4e4a89b",
   "metadata": {},
   "outputs": [],
   "source": [
    "message_history = ChatMessageHistory()\n",
    "\n",
    "# Memory for conversational context\n",
    "memory = ConversationBufferMemory(\n",
    "    memory_key=\"chat_history\",\n",
    "    output_key=\"answer\",\n",
    "    chat_memory=message_history,\n",
    "    return_messages=True,\n",
    ")\n",
    "\n",
    "# Create a chain that uses the Chroma vector store\n",
    "chain = ConversationalRetrievalChain.from_llm(\n",
    "    llm=llm,\n",
    "    chain_type=\"stuff\",\n",
    "    retriever=db.as_retriever(),\n",
    "    memory=memory,\n",
    "    return_source_documents=False,\n",
    ")"
   ]
  },
  {
   "cell_type": "code",
   "execution_count": null,
   "id": "b82b9e78-2f34-4b58-b2f5-a16ae93c25d7",
   "metadata": {},
   "outputs": [],
   "source": [
    "res = chain.invoke(\n",
    "    dedent(\n",
    "        \"\"\"\n",
    "        Please summarize in 2 paragrams THE SRAI LIBRARY.\n",
    "        \"\"\"\n",
    "    )\n",
    ")"
   ]
  },
  {
   "cell_type": "code",
   "execution_count": null,
   "id": "5463e7be-3bb5-4015-b0c4-3d4e21a5a129",
   "metadata": {},
   "outputs": [],
   "source": [
    "print(res.keys())"
   ]
  },
  {
   "cell_type": "code",
   "execution_count": null,
   "id": "9055f916-5df1-4224-bb00-917c638f5d6d",
   "metadata": {},
   "outputs": [],
   "source": [
    "print(res[\"answer\"])"
   ]
  },
  {
   "cell_type": "code",
   "execution_count": null,
   "id": "9aba515a-57b1-4c7f-9b6f-17b99f714fe2",
   "metadata": {},
   "outputs": [],
   "source": [
    "# res[\"source_documents\"]"
   ]
  },
  {
   "cell_type": "code",
   "execution_count": null,
   "id": "8d0a0fbb-279a-45f4-b996-ba6d7f084002",
   "metadata": {},
   "outputs": [],
   "source": []
  }
 ],
 "metadata": {
  "kernelspec": {
   "display_name": "Python 3 (ipykernel)",
   "language": "python",
   "name": "python3"
  },
  "language_info": {
   "codemirror_mode": {
    "name": "ipython",
    "version": 3
   },
   "file_extension": ".py",
   "mimetype": "text/x-python",
   "name": "python",
   "nbconvert_exporter": "python",
   "pygments_lexer": "ipython3",
   "version": "3.11.8"
  }
 },
 "nbformat": 4,
 "nbformat_minor": 5
}
