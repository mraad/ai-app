{
 "cells": [
  {
   "cell_type": "code",
   "execution_count": 1,
   "id": "d32f9db5-581f-452f-97d1-417233e13941",
   "metadata": {},
   "outputs": [],
   "source": [
    "import json\n",
    "from textwrap import dedent\n",
    "\n",
    "import duckdb\n",
    "from phi.assistant import Assistant\n",
    "from phi.assistant.duckdb import DuckDbAssistant\n",
    "from phi.assistant.python import PythonAssistant\n",
    "from phi.llm.ollama import Ollama"
   ]
  },
  {
   "cell_type": "code",
   "execution_count": 2,
   "id": "80a8a66e-0613-4d4c-b380-d04aa55f84d9",
   "metadata": {},
   "outputs": [
    {
     "data": {
      "text/plain": [
       "'\\n# CONTEXT #\\nHello, World!\\n\\n# OBJECTIVE #\\nThis is a test\\n'"
      ]
     },
     "execution_count": 2,
     "metadata": {},
     "output_type": "execute_result"
    }
   ],
   "source": [
    "dedent(\n",
    "    \"\"\"\n",
    "    # CONTEXT #\n",
    "    Hello, World!\n",
    "\n",
    "    # OBJECTIVE #\n",
    "    This is a test\n",
    "    \"\"\"\n",
    ")"
   ]
  },
  {
   "cell_type": "code",
   "execution_count": 4,
   "id": "372bdad8-9bea-41bf-9bbf-3cdc477518ec",
   "metadata": {},
   "outputs": [],
   "source": [
    "with duckdb.connect(\"broadcast.db\") as con:\n",
    "    con.sql(\n",
    "        \"create table if not exists broadcast as select * from '/Users/mraad/data/Broadcast.prq/part-*.parquet'\"\n",
    "    )"
   ]
  },
  {
   "cell_type": "code",
   "execution_count": 18,
   "id": "bfce8ae9-c365-4931-8501-75638e40fa28",
   "metadata": {},
   "outputs": [
    {
     "name": "stdout",
     "output_type": "stream",
     "text": [
      "┌───────────┬─────────────┐\n",
      "│ HourOfDay │ RecordCount │\n",
      "│   int64   │    int64    │\n",
      "├───────────┼─────────────┤\n",
      "│         0 │       58105 │\n",
      "│         1 │       56452 │\n",
      "│         2 │       54895 │\n",
      "│         3 │       54998 │\n",
      "│         4 │       53428 │\n",
      "│         5 │       52946 │\n",
      "│         6 │       52486 │\n",
      "│         7 │       53219 │\n",
      "│         8 │       55741 │\n",
      "│         9 │       58349 │\n",
      "│         · │         ·   │\n",
      "│         · │         ·   │\n",
      "│         · │         ·   │\n",
      "│        14 │       57395 │\n",
      "│        15 │       56932 │\n",
      "│        16 │       57902 │\n",
      "│        17 │       57362 │\n",
      "│        18 │       57872 │\n",
      "│        19 │       58795 │\n",
      "│        20 │       59099 │\n",
      "│        21 │       58509 │\n",
      "│        22 │       58778 │\n",
      "│        23 │       59216 │\n",
      "├───────────┴─────────────┤\n",
      "│   24 rows (20 shown)    │\n",
      "└─────────────────────────┘\n",
      "\n"
     ]
    }
   ],
   "source": [
    "with duckdb.connect(\"broadcast.db\", read_only=True) as con:\n",
    "    print(\n",
    "        con.sql(\n",
    "            dedent(\n",
    "                \"\"\"\n",
    "    SELECT EXTRACT(hour FROM BaseDateTime) AS HourOfDay, COUNT(*) AS RecordCount\n",
    "    FROM Broadcast\n",
    "    GROUP BY HourOfDay\n",
    "    ORDER BY HourOfDay\"\"\"\n",
    "            )\n",
    "        )\n",
    "    )"
   ]
  },
  {
   "cell_type": "code",
   "execution_count": 9,
   "id": "5e960695-0f56-4cea-9817-4d22a26627a4",
   "metadata": {},
   "outputs": [],
   "source": [
    "# assistant = Assistant(\n",
    "#     llm=Ollama(),\n",
    "#     tools=[DuckDuckGo()],\n",
    "#     show_tool_calls=True,\n",
    "#     description=\"You are an expert on world affairs.\",\n",
    "# )"
   ]
  },
  {
   "cell_type": "code",
   "execution_count": 10,
   "id": "39c007e4-f8af-4ed8-8646-90c4db9024fa",
   "metadata": {},
   "outputs": [],
   "source": [
    "# assistant.print_response(\n",
    "#     \"Please tell me what is going on in Lebanon now.\", markdown=True\n",
    "# )"
   ]
  },
  {
   "cell_type": "code",
   "execution_count": 15,
   "id": "424b2652-ec79-4655-9abb-6676e3c45448",
   "metadata": {},
   "outputs": [],
   "source": [
    "duckdb_assistant = DuckDbAssistant(\n",
    "    # llm=Ollama(model=\"openhermes\"),\n",
    "    show_tool_calls=True,\n",
    "    db_path=\"broadcast.db\",\n",
    "    read_only=True,\n",
    "    create_tables=False,\n",
    "    semantic_model=json.dumps(\n",
    "        {\n",
    "            \"tables\": [\n",
    "                {\n",
    "                    \"name\": \"Broadcast\",\n",
    "                    \"description\": \"Contains information about AIS broadcast points.\",\n",
    "                    \"columns\": [\n",
    "                        {\"name\": \"OBJECTID\", \"type\": \"INTEGER\"},\n",
    "                        {\"name\": \"Longitude\", \"type\": \"DOUBLE\"},\n",
    "                        {\"name\": \"Latitude\", \"type\": \"DOUBLE\"},\n",
    "                        {\"name\": \"MMSI\", \"type\": \"INTEGER\"},\n",
    "                        {\"name\": \"Status\", \"type\": \"INTEGER\"},\n",
    "                        {\"name\": \"BaseDateTime\", \"type\": \"TIMESTAMP\"},\n",
    "                    ],\n",
    "                }\n",
    "            ]\n",
    "        }\n",
    "    ),\n",
    ")"
   ]
  },
  {
   "cell_type": "code",
   "execution_count": 17,
   "id": "ba62be58-bb33-4aa7-aee6-d9d1102a10d3",
   "metadata": {},
   "outputs": [
    {
     "data": {
      "application/vnd.jupyter.widget-view+json": {
       "model_id": "5d62d681bf204789a155cc04bc42c7ac",
       "version_major": 2,
       "version_minor": 0
      },
      "text/plain": [
       "Output()"
      ]
     },
     "metadata": {},
     "output_type": "display_data"
    },
    {
     "data": {
      "text/html": [
       "<pre style=\"white-space:pre;overflow-x:auto;line-height:normal;font-family:Menlo,'DejaVu Sans Mono',consolas,'Courier New',monospace\"><span style=\"color: #000080; text-decoration-color: #000080\">INFO    </span> Running: explain SELECT <span style=\"color: #800080; text-decoration-color: #800080; font-weight: bold\">EXTRACT</span><span style=\"font-weight: bold\">(</span>hour FROM BaseDateTime<span style=\"font-weight: bold\">)</span> AS HourOfDay, <span style=\"color: #800080; text-decoration-color: #800080; font-weight: bold\">COUNT</span><span style=\"font-weight: bold\">(</span>*<span style=\"font-weight: bold\">)</span> AS RecordCount FROM        \n",
       "         Broadcast GROUP BY HourOfDay ORDER BY HourOfDay                                                           \n",
       "</pre>\n"
      ],
      "text/plain": [
       "\u001b[34mINFO    \u001b[0m Running: explain SELECT \u001b[1;35mEXTRACT\u001b[0m\u001b[1m(\u001b[0mhour FROM BaseDateTime\u001b[1m)\u001b[0m AS HourOfDay, \u001b[1;35mCOUNT\u001b[0m\u001b[1m(\u001b[0m*\u001b[1m)\u001b[0m AS RecordCount FROM        \n",
       "         Broadcast GROUP BY HourOfDay ORDER BY HourOfDay                                                           \n"
      ]
     },
     "metadata": {},
     "output_type": "display_data"
    },
    {
     "data": {
      "text/html": [
       "<pre style=\"white-space:pre;overflow-x:auto;line-height:normal;font-family:Menlo,'DejaVu Sans Mono',consolas,'Courier New',monospace\"><span style=\"color: #000080; text-decoration-color: #000080\">INFO    </span> Running: SELECT <span style=\"color: #800080; text-decoration-color: #800080; font-weight: bold\">EXTRACT</span><span style=\"font-weight: bold\">(</span>hour FROM BaseDateTime<span style=\"font-weight: bold\">)</span> AS HourOfDay, <span style=\"color: #800080; text-decoration-color: #800080; font-weight: bold\">COUNT</span><span style=\"font-weight: bold\">(</span>*<span style=\"font-weight: bold\">)</span> AS RecordCount FROM Broadcast GROUP\n",
       "         BY HourOfDay ORDER BY HourOfDay                                                                           \n",
       "</pre>\n"
      ],
      "text/plain": [
       "\u001b[34mINFO    \u001b[0m Running: SELECT \u001b[1;35mEXTRACT\u001b[0m\u001b[1m(\u001b[0mhour FROM BaseDateTime\u001b[1m)\u001b[0m AS HourOfDay, \u001b[1;35mCOUNT\u001b[0m\u001b[1m(\u001b[0m*\u001b[1m)\u001b[0m AS RecordCount FROM Broadcast GROUP\n",
       "         BY HourOfDay ORDER BY HourOfDay                                                                           \n"
      ]
     },
     "metadata": {},
     "output_type": "display_data"
    },
    {
     "data": {
      "text/html": [
       "<pre style=\"white-space:pre;overflow-x:auto;line-height:normal;font-family:Menlo,'DejaVu Sans Mono',consolas,'Courier New',monospace\"></pre>\n"
      ],
      "text/plain": []
     },
     "metadata": {},
     "output_type": "display_data"
    }
   ],
   "source": [
    "duckdb_assistant.print_response(\n",
    "    \"Count the number of broadcast records by each hour of the day\"\n",
    ")"
   ]
  },
  {
   "cell_type": "code",
   "execution_count": null,
   "id": "7025e5b1-a010-4e83-99c5-2c70b184835c",
   "metadata": {},
   "outputs": [],
   "source": []
  }
 ],
 "metadata": {
  "kernelspec": {
   "display_name": "Python 3 (ipykernel)",
   "language": "python",
   "name": "python3"
  },
  "language_info": {
   "codemirror_mode": {
    "name": "ipython",
    "version": 3
   },
   "file_extension": ".py",
   "mimetype": "text/x-python",
   "name": "python",
   "nbconvert_exporter": "python",
   "pygments_lexer": "ipython3",
   "version": "3.11.8"
  }
 },
 "nbformat": 4,
 "nbformat_minor": 5
}
