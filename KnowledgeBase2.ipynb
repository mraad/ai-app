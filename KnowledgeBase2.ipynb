{
 "cells": [
  {
   "cell_type": "code",
   "execution_count": null,
   "id": "42d5cd4a-0ee6-4b0a-bf35-1331420a9e39",
   "metadata": {},
   "outputs": [],
   "source": [
    "import json\n",
    "\n",
    "from geo.teams.geo import get_geo_team"
   ]
  },
  {
   "cell_type": "code",
   "execution_count": null,
   "id": "8930b0e2-873e-4202-9ca2-3cc2763f71ad",
   "metadata": {},
   "outputs": [],
   "source": [
    "from phi.document import Document\n",
    "from phi.embedder.ollama import OllamaEmbedder\n",
    "from phi.knowledge.document import DocumentKnowledgeBase\n",
    "from phi.vectordb.qdrant import Qdrant"
   ]
  },
  {
   "cell_type": "code",
   "execution_count": null,
   "id": "29e863f6-29f2-4dd2-8aa0-ed22f643b4c7",
   "metadata": {},
   "outputs": [],
   "source": [
    "embedder = OllamaEmbedder(model=\"nomic-embed-text\", dimensions=768)"
   ]
  },
  {
   "cell_type": "code",
   "execution_count": null,
   "id": "bb4e71fc-a1fb-46f0-84c7-87475da42c21",
   "metadata": {},
   "outputs": [],
   "source": [
    "vector_db = Qdrant(\"doccol\", location=\":memory:\", embedder=embedder)"
   ]
  },
  {
   "cell_type": "code",
   "execution_count": null,
   "id": "8a11fe12-ae1a-4594-be52-2f52c2b5cc79",
   "metadata": {},
   "outputs": [],
   "source": [
    "doc1 = Document(\n",
    "    content=json.dumps(\n",
    "        {\n",
    "            \"description\": \"Point layer containing active and past forest fires\",\n",
    "            \"url\": \"http://localhost/fires\",\n",
    "        }\n",
    "    ),\n",
    ")\n",
    "\n",
    "doc2 = Document(\n",
    "    content=json.dumps(\n",
    "        {\n",
    "            \"description\": \"Linestring layer containing rivers and creeks\",\n",
    "            \"url\": \"http://localhost/rivers\",\n",
    "        }\n",
    "    ),\n",
    ")"
   ]
  },
  {
   "cell_type": "code",
   "execution_count": null,
   "id": "0febbabd-46e9-4625-8db4-110d7c0b6999",
   "metadata": {},
   "outputs": [],
   "source": [
    "documents = [doc1, doc2]"
   ]
  },
  {
   "cell_type": "code",
   "execution_count": null,
   "id": "ff8dcdfb-340c-4fc5-a738-87e6f787c4a6",
   "metadata": {},
   "outputs": [],
   "source": [
    "knowledge_base = DocumentKnowledgeBase(documents=documents, vector_db=vector_db)\n",
    "knowledge_base.load()"
   ]
  },
  {
   "cell_type": "code",
   "execution_count": null,
   "id": "68f8e7c1-233c-4788-b999-f2a8f50e31e8",
   "metadata": {},
   "outputs": [],
   "source": [
    "assistant = get_geo_team(knowledge_base, debug_mode=False)"
   ]
  },
  {
   "cell_type": "code",
   "execution_count": null,
   "id": "e27547d3-8738-490f-8c2c-22fe56ea68d0",
   "metadata": {},
   "outputs": [],
   "source": [
    "res = assistant.run(\n",
    "    \"\"\"\n",
    "    What is the river near Beirut, Lebanon?\n",
    "    Make sure to return the result as a valid JSON document, WITHOUT the markdown tags.\n",
    "    \"\"\", stream=False\n",
    ")\n",
    "print(res)"
   ]
  },
  {
   "cell_type": "code",
   "execution_count": null,
   "id": "981f7284-ac98-4cf8-9596-0e865b68ed73",
   "metadata": {},
   "outputs": [],
   "source": []
  }
 ],
 "metadata": {
  "kernelspec": {
   "display_name": "Python 3 (ipykernel)",
   "language": "python",
   "name": "python3"
  },
  "language_info": {
   "codemirror_mode": {
    "name": "ipython",
    "version": 3
   },
   "file_extension": ".py",
   "mimetype": "text/x-python",
   "name": "python",
   "nbconvert_exporter": "python",
   "pygments_lexer": "ipython3",
   "version": "3.11.8"
  }
 },
 "nbformat": 4,
 "nbformat_minor": 5
}
